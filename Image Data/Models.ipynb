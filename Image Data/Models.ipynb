{
 "cells": [
  {
   "cell_type": "markdown",
   "metadata": {
    "id": "4d8WJgKmX69a"
   },
   "source": [
    "## Importing Libraries"
   ]
  },
  {
   "cell_type": "code",
   "execution_count": 85,
   "metadata": {
    "colab": {
     "base_uri": "https://localhost:8080/"
    },
    "executionInfo": {
     "elapsed": 2691,
     "status": "ok",
     "timestamp": 1657992754748,
     "user": {
      "displayName": "hager saleh",
      "userId": "04961961339784377923"
     },
     "user_tz": -120
    },
    "id": "TgeY22ZVzy1Y",
    "outputId": "3b4b5a3d-cb92-4c7a-bd93-4d275ef39973"
   },
   "outputs": [
    {
     "name": "stdout",
     "output_type": "stream",
     "text": [
      "Looking in indexes: https://pypi.org/simple, https://us-python.pkg.dev/colab-wheels/public/simple/\n",
      "Requirement already satisfied: keras-tuner in /usr/local/lib/python3.7/dist-packages (1.1.3)\n",
      "Requirement already satisfied: kt-legacy in /usr/local/lib/python3.7/dist-packages (from keras-tuner) (1.0.4)\n",
      "Requirement already satisfied: numpy in /usr/local/lib/python3.7/dist-packages (from keras-tuner) (1.21.6)\n",
      "Requirement already satisfied: ipython in /usr/local/lib/python3.7/dist-packages (from keras-tuner) (5.5.0)\n",
      "Requirement already satisfied: requests in /usr/local/lib/python3.7/dist-packages (from keras-tuner) (2.23.0)\n",
      "Requirement already satisfied: packaging in /usr/local/lib/python3.7/dist-packages (from keras-tuner) (21.3)\n",
      "Requirement already satisfied: tensorboard in /usr/local/lib/python3.7/dist-packages (from keras-tuner) (2.8.0)\n",
      "Requirement already satisfied: prompt-toolkit<2.0.0,>=1.0.4 in /usr/local/lib/python3.7/dist-packages (from ipython->keras-tuner) (1.0.18)\n",
      "Requirement already satisfied: setuptools>=18.5 in /usr/local/lib/python3.7/dist-packages (from ipython->keras-tuner) (57.4.0)\n",
      "Requirement already satisfied: pygments in /usr/local/lib/python3.7/dist-packages (from ipython->keras-tuner) (2.6.1)\n",
      "Requirement already satisfied: decorator in /usr/local/lib/python3.7/dist-packages (from ipython->keras-tuner) (4.4.2)\n",
      "Requirement already satisfied: pexpect in /usr/local/lib/python3.7/dist-packages (from ipython->keras-tuner) (4.8.0)\n",
      "Requirement already satisfied: traitlets>=4.2 in /usr/local/lib/python3.7/dist-packages (from ipython->keras-tuner) (5.1.1)\n",
      "Requirement already satisfied: simplegeneric>0.8 in /usr/local/lib/python3.7/dist-packages (from ipython->keras-tuner) (0.8.1)\n",
      "Requirement already satisfied: pickleshare in /usr/local/lib/python3.7/dist-packages (from ipython->keras-tuner) (0.7.5)\n",
      "Requirement already satisfied: wcwidth in /usr/local/lib/python3.7/dist-packages (from prompt-toolkit<2.0.0,>=1.0.4->ipython->keras-tuner) (0.2.5)\n",
      "Requirement already satisfied: six>=1.9.0 in /usr/local/lib/python3.7/dist-packages (from prompt-toolkit<2.0.0,>=1.0.4->ipython->keras-tuner) (1.15.0)\n",
      "Requirement already satisfied: pyparsing!=3.0.5,>=2.0.2 in /usr/local/lib/python3.7/dist-packages (from packaging->keras-tuner) (3.0.9)\n",
      "Requirement already satisfied: ptyprocess>=0.5 in /usr/local/lib/python3.7/dist-packages (from pexpect->ipython->keras-tuner) (0.7.0)\n",
      "Requirement already satisfied: chardet<4,>=3.0.2 in /usr/local/lib/python3.7/dist-packages (from requests->keras-tuner) (3.0.4)\n",
      "Requirement already satisfied: idna<3,>=2.5 in /usr/local/lib/python3.7/dist-packages (from requests->keras-tuner) (2.10)\n",
      "Requirement already satisfied: urllib3!=1.25.0,!=1.25.1,<1.26,>=1.21.1 in /usr/local/lib/python3.7/dist-packages (from requests->keras-tuner) (1.24.3)\n",
      "Requirement already satisfied: certifi>=2017.4.17 in /usr/local/lib/python3.7/dist-packages (from requests->keras-tuner) (2022.6.15)\n",
      "Requirement already satisfied: google-auth-oauthlib<0.5,>=0.4.1 in /usr/local/lib/python3.7/dist-packages (from tensorboard->keras-tuner) (0.4.6)\n",
      "Requirement already satisfied: tensorboard-data-server<0.7.0,>=0.6.0 in /usr/local/lib/python3.7/dist-packages (from tensorboard->keras-tuner) (0.6.1)\n",
      "Requirement already satisfied: werkzeug>=0.11.15 in /usr/local/lib/python3.7/dist-packages (from tensorboard->keras-tuner) (1.0.1)\n",
      "Requirement already satisfied: google-auth<3,>=1.6.3 in /usr/local/lib/python3.7/dist-packages (from tensorboard->keras-tuner) (1.35.0)\n",
      "Requirement already satisfied: absl-py>=0.4 in /usr/local/lib/python3.7/dist-packages (from tensorboard->keras-tuner) (1.1.0)\n",
      "Requirement already satisfied: protobuf>=3.6.0 in /usr/local/lib/python3.7/dist-packages (from tensorboard->keras-tuner) (3.17.3)\n",
      "Requirement already satisfied: wheel>=0.26 in /usr/local/lib/python3.7/dist-packages (from tensorboard->keras-tuner) (0.37.1)\n",
      "Requirement already satisfied: tensorboard-plugin-wit>=1.6.0 in /usr/local/lib/python3.7/dist-packages (from tensorboard->keras-tuner) (1.8.1)\n",
      "Requirement already satisfied: grpcio>=1.24.3 in /usr/local/lib/python3.7/dist-packages (from tensorboard->keras-tuner) (1.47.0)\n",
      "Requirement already satisfied: markdown>=2.6.8 in /usr/local/lib/python3.7/dist-packages (from tensorboard->keras-tuner) (3.3.7)\n",
      "Requirement already satisfied: cachetools<5.0,>=2.0.0 in /usr/local/lib/python3.7/dist-packages (from google-auth<3,>=1.6.3->tensorboard->keras-tuner) (4.2.4)\n",
      "Requirement already satisfied: pyasn1-modules>=0.2.1 in /usr/local/lib/python3.7/dist-packages (from google-auth<3,>=1.6.3->tensorboard->keras-tuner) (0.2.8)\n",
      "Requirement already satisfied: rsa<5,>=3.1.4 in /usr/local/lib/python3.7/dist-packages (from google-auth<3,>=1.6.3->tensorboard->keras-tuner) (4.8)\n",
      "Requirement already satisfied: requests-oauthlib>=0.7.0 in /usr/local/lib/python3.7/dist-packages (from google-auth-oauthlib<0.5,>=0.4.1->tensorboard->keras-tuner) (1.3.1)\n",
      "Requirement already satisfied: importlib-metadata>=4.4 in /usr/local/lib/python3.7/dist-packages (from markdown>=2.6.8->tensorboard->keras-tuner) (4.12.0)\n",
      "Requirement already satisfied: zipp>=0.5 in /usr/local/lib/python3.7/dist-packages (from importlib-metadata>=4.4->markdown>=2.6.8->tensorboard->keras-tuner) (3.8.0)\n",
      "Requirement already satisfied: typing-extensions>=3.6.4 in /usr/local/lib/python3.7/dist-packages (from importlib-metadata>=4.4->markdown>=2.6.8->tensorboard->keras-tuner) (4.1.1)\n",
      "Requirement already satisfied: pyasn1<0.5.0,>=0.4.6 in /usr/local/lib/python3.7/dist-packages (from pyasn1-modules>=0.2.1->google-auth<3,>=1.6.3->tensorboard->keras-tuner) (0.4.8)\n",
      "Requirement already satisfied: oauthlib>=3.0.0 in /usr/local/lib/python3.7/dist-packages (from requests-oauthlib>=0.7.0->google-auth-oauthlib<0.5,>=0.4.1->tensorboard->keras-tuner) (3.2.0)\n"
     ]
    }
   ],
   "source": [
    "pip install keras-tuner"
   ]
  },
  {
   "cell_type": "code",
   "execution_count": 86,
   "metadata": {
    "execution": {
     "iopub.execute_input": "2022-01-13T12:45:40.973505Z",
     "iopub.status.busy": "2022-01-13T12:45:40.973152Z",
     "iopub.status.idle": "2022-01-13T12:45:45.076588Z",
     "shell.execute_reply": "2022-01-13T12:45:45.075803Z",
     "shell.execute_reply.started": "2022-01-13T12:45:40.973433Z"
    },
    "executionInfo": {
     "elapsed": 7,
     "status": "ok",
     "timestamp": 1657992754749,
     "user": {
      "displayName": "hager saleh",
      "userId": "04961961339784377923"
     },
     "user_tz": -120
    },
    "id": "oW16bqbBX69d"
   },
   "outputs": [],
   "source": [
    "import os\n",
    "import cv2\n",
    "import pandas as pd\n",
    "import numpy as np\n",
    "import tensorflow as tf\n",
    "import matplotlib.pyplot as plt\n",
    "from kerastuner import HyperModel\n",
    "from tensorflow import keras\n",
    "from tensorflow.keras import layers\n",
    "from kerastuner.tuners import RandomSearch\n",
    "import warnings\n",
    "warnings.filterwarnings(\"ignore\")\n",
    "import tensorflow.keras\n",
    "from tensorflow.keras import layers\n",
    "from tensorflow.keras import Model \n",
    "from tensorflow.keras.models import Sequential\n",
    "from tensorflow.keras.preprocessing import image\n",
    "from tensorflow.keras.callbacks import ModelCheckpoint, EarlyStopping\n",
    "from tensorflow.keras.preprocessing.image import ImageDataGenerator\n",
    "from tensorflow.keras.applications.vgg16 import VGG16, preprocess_input\n",
    "from tensorflow.keras.models import load_model, Model\n",
    "from tensorflow.keras.layers import Dense,Conv2D, Flatten, MaxPool2D, Dropout\n",
    "from tensorflow.keras.applications import ResNet50\n",
    "from keras import backend as K"
   ]
  },
  {
   "cell_type": "code",
   "execution_count": 87,
   "metadata": {
    "colab": {
     "base_uri": "https://localhost:8080/"
    },
    "executionInfo": {
     "elapsed": 1676,
     "status": "ok",
     "timestamp": 1657992756419,
     "user": {
      "displayName": "hager saleh",
      "userId": "04961961339784377923"
     },
     "user_tz": -120
    },
    "id": "yVyJxXPDYAkB",
    "outputId": "80d222cb-512f-4f27-a953-fc59939432f3"
   },
   "outputs": [
    {
     "name": "stdout",
     "output_type": "stream",
     "text": [
      "Drive already mounted at /content/drive; to attempt to forcibly remount, call drive.mount(\"/content/drive\", force_remount=True).\n"
     ]
    }
   ],
   "source": [
    "from google.colab import drive\n",
    "drive.mount('/content/drive')"
   ]
  },
  {
   "cell_type": "markdown",
   "metadata": {
    "id": "ESzpO669X69g"
   },
   "source": [
    "## Importing Keras for Image Classification"
   ]
  },
  {
   "cell_type": "code",
   "execution_count": 88,
   "metadata": {
    "colab": {
     "base_uri": "https://localhost:8080/"
    },
    "execution": {
     "iopub.execute_input": "2022-01-13T12:46:01.060970Z",
     "iopub.status.busy": "2022-01-13T12:46:01.060344Z",
     "iopub.status.idle": "2022-01-13T12:46:01.454889Z",
     "shell.execute_reply": "2022-01-13T12:46:01.454087Z",
     "shell.execute_reply.started": "2022-01-13T12:46:01.060932Z"
    },
    "executionInfo": {
     "elapsed": 340,
     "status": "ok",
     "timestamp": 1657992756756,
     "user": {
      "displayName": "hager saleh",
      "userId": "04961961339784377923"
     },
     "user_tz": -120
    },
    "id": "NAF_LmwsX69e",
    "outputId": "ce8719ec-97d3-422f-e43f-7e977d743574"
   },
   "outputs": [
    {
     "name": "stdout",
     "output_type": "stream",
     "text": [
      "Found 613 images belonging to 4 classes.\n"
     ]
    }
   ],
   "source": [
    "# Training\n",
    "train_datagen = ImageDataGenerator(\n",
    "    rescale = 1./255,\n",
    "    validation_split = 0.2,\n",
    "    rotation_range=5,\n",
    "    width_shift_range=0.2,\n",
    "    height_shift_range=0.2,\n",
    "    shear_range=0.2,\n",
    "    zoom_range=0.2,\n",
    "    horizontal_flip=True,\n",
    "    vertical_flip=True,\n",
    "    fill_mode='nearest')\n",
    "train_data = train_datagen.flow_from_directory(\n",
    "    '/content/drive/MyDrive/Student/project1/Data/train',\n",
    "    target_size=(64, 64),\n",
    "    batch_size=32,\n",
    "    class_mode='categorical')"
   ]
  },
  {
   "cell_type": "code",
   "execution_count": 89,
   "metadata": {
    "colab": {
     "base_uri": "https://localhost:8080/"
    },
    "execution": {
     "iopub.execute_input": "2022-01-13T12:46:21.015161Z",
     "iopub.status.busy": "2022-01-13T12:46:21.014691Z",
     "iopub.status.idle": "2022-01-13T12:46:21.124404Z",
     "shell.execute_reply": "2022-01-13T12:46:21.123358Z",
     "shell.execute_reply.started": "2022-01-13T12:46:21.015122Z"
    },
    "executionInfo": {
     "elapsed": 10,
     "status": "ok",
     "timestamp": 1657992756757,
     "user": {
      "displayName": "hager saleh",
      "userId": "04961961339784377923"
     },
     "user_tz": -120
    },
    "id": "QCmEEeXqX69i",
    "outputId": "35333a32-9685-46a7-8528-f67ffccad1a3"
   },
   "outputs": [
    {
     "name": "stdout",
     "output_type": "stream",
     "text": [
      "Found 72 images belonging to 4 classes.\n"
     ]
    }
   ],
   "source": [
    "# Validation\n",
    "valid_datagen = ImageDataGenerator(rescale=1./255)\n",
    "val_data = valid_datagen.flow_from_directory(\n",
    "    '/content/drive/MyDrive/Student/project1/Data/valid',\n",
    "    target_size=(64, 64),\n",
    "    batch_size=32,\n",
    "    class_mode='categorical')"
   ]
  },
  {
   "cell_type": "code",
   "execution_count": 90,
   "metadata": {
    "colab": {
     "base_uri": "https://localhost:8080/"
    },
    "execution": {
     "iopub.execute_input": "2022-01-13T12:46:15.127351Z",
     "iopub.status.busy": "2022-01-13T12:46:15.126541Z",
     "iopub.status.idle": "2022-01-13T12:46:15.245783Z",
     "shell.execute_reply": "2022-01-13T12:46:15.242461Z",
     "shell.execute_reply.started": "2022-01-13T12:46:15.127312Z"
    },
    "executionInfo": {
     "elapsed": 6,
     "status": "ok",
     "timestamp": 1657992756757,
     "user": {
      "displayName": "hager saleh",
      "userId": "04961961339784377923"
     },
     "user_tz": -120
    },
    "id": "TgN8leSvX69h",
    "outputId": "7d601a24-8a8f-47ca-fb93-097d97142e0c"
   },
   "outputs": [
    {
     "name": "stdout",
     "output_type": "stream",
     "text": [
      "Found 139 images belonging to 4 classes.\n"
     ]
    }
   ],
   "source": [
    "# Test\n",
    "test_datagen = ImageDataGenerator(rescale=1./255)\n",
    "test_data = test_datagen.flow_from_directory(\n",
    "    '/content/drive/MyDrive/Student/project1/Data/test',\n",
    "    target_size=(64, 64),\n",
    "    batch_size=32,\n",
    "    class_mode='categorical')"
   ]
  },
  {
   "cell_type": "markdown",
   "metadata": {
    "id": "ccfSWWxIxz-k"
   },
   "source": [
    "### Evaluation models using Accuracy, precision, reacll and F-measure"
   ]
  },
  {
   "cell_type": "code",
   "execution_count": 91,
   "metadata": {
    "executionInfo": {
     "elapsed": 5,
     "status": "ok",
     "timestamp": 1657992756758,
     "user": {
      "displayName": "hager saleh",
      "userId": "04961961339784377923"
     },
     "user_tz": -120
    },
    "id": "rq7LbmV6aCvK"
   },
   "outputs": [],
   "source": [
    "NUM_CLASSES = 4"
   ]
  },
  {
   "cell_type": "markdown",
   "metadata": {
    "id": "1BxQE9mKX69j"
   },
   "source": [
    "## CNN Model"
   ]
  },
  {
   "cell_type": "code",
   "execution_count": 92,
   "metadata": {
    "executionInfo": {
     "elapsed": 5,
     "status": "ok",
     "timestamp": 1657992756758,
     "user": {
      "displayName": "hager saleh",
      "userId": "04961961339784377923"
     },
     "user_tz": -120
    },
    "id": "nPuYz5pGyfQA"
   },
   "outputs": [],
   "source": [
    "\n",
    "def build_model(hp):\n",
    "    num_units_min  =  50\n",
    "    num_units_max  =  500\n",
    "    num_units_step =  50\n",
    "\n",
    "    dropout_min  =  .1\n",
    "    dropout_max  =  0.9\n",
    "    dropout_step =  0.1\n",
    "    model = Sequential()\n",
    "        \n",
    "    model.add(\n",
    "        Conv2D(\n",
    "            filters=hp.Int(\n",
    "                'num_filters1',min_value=32, max_value=128, step=16 ),\n",
    "            activation= 'relu', input_shape=(64,64,3),\n",
    "            kernel_size=hp.Choice('kernel_size1', [3])))\n",
    "    \n",
    "\n",
    "    model.add(MaxPool2D(pool_size=hp.Choice('Pool_Size1', [2,3])))\n",
    "\n",
    "\n",
    "    model.add(Flatten())\n",
    "    model.add(layers.Dense(units=hp.Int('unit1',  min_value=num_units_min,\n",
    "                                                 max_value=num_units_max,\n",
    "                                                 step=num_units_step),activation = 'relu'))\n",
    "\n",
    "    model.add(Dense(NUM_CLASSES, activation='softmax'))\n",
    "    \n",
    "    model.compile(optimizer=keras.optimizers.Adam( hp.Float('learning_rate',min_value=1e-4,max_value=1e-2)),loss='categorical_crossentropy', metrics=['acc'] )\n",
    "    return model\n",
    "\n"
   ]
  },
  {
   "cell_type": "code",
   "execution_count": 93,
   "metadata": {
    "executionInfo": {
     "elapsed": 308,
     "status": "ok",
     "timestamp": 1657992757062,
     "user": {
      "displayName": "hager saleh",
      "userId": "04961961339784377923"
     },
     "user_tz": -120
    },
    "id": "phhW2RQs1bKA"
   },
   "outputs": [],
   "source": [
    "tuner = RandomSearch(\n",
    "    build_model,\n",
    "    objective='val_acc',\n",
    "    max_trials=1,\n",
    "    project_name='/content/drive/MyDrive/Student/project1/deepccn1')"
   ]
  },
  {
   "cell_type": "code",
   "execution_count": 94,
   "metadata": {
    "colab": {
     "base_uri": "https://localhost:8080/"
    },
    "executionInfo": {
     "elapsed": 87947,
     "status": "ok",
     "timestamp": 1657992845005,
     "user": {
      "displayName": "hager saleh",
      "userId": "04961961339784377923"
     },
     "user_tz": -120
    },
    "id": "hekUDMmT3B-y",
    "outputId": "793fc7b1-0c11-4ab8-fdeb-ac967e354680"
   },
   "outputs": [
    {
     "name": "stdout",
     "output_type": "stream",
     "text": [
      "Trial 1 Complete [00h 01m 27s]\n",
      "val_acc: 0.6388888955116272\n",
      "\n",
      "Best val_acc So Far: 0.6388888955116272\n",
      "Total elapsed time: 00h 01m 27s\n",
      "INFO:tensorflow:Oracle triggered exit\n"
     ]
    }
   ],
   "source": [
    "epoch=20\n",
    "BATCH_SIZE=32\n",
    "early_stopping = EarlyStopping(monitor='val_acc', patience=30, verbose=1)\n",
    "callback_list = [ early_stopping ]\n",
    "\n",
    "# split training data into stratified train/dev sets\n",
    "\n",
    "h=tuner.search(train_data, \n",
    "             epochs=epoch,\n",
    "             batch_size=BATCH_SIZE, \n",
    "             callbacks=callback_list,  validation_data = val_data)\n",
    "            \n",
    "model = tuner.get_best_models(num_models=1)[0]"
   ]
  },
  {
   "cell_type": "code",
   "execution_count": 95,
   "metadata": {
    "colab": {
     "base_uri": "https://localhost:8080/"
    },
    "execution": {
     "iopub.execute_input": "2022-01-13T12:46:47.141156Z",
     "iopub.status.busy": "2022-01-13T12:46:47.140896Z",
     "iopub.status.idle": "2022-01-13T12:46:47.146046Z",
     "shell.execute_reply": "2022-01-13T12:46:47.145141Z",
     "shell.execute_reply.started": "2022-01-13T12:46:47.141127Z"
    },
    "executionInfo": {
     "elapsed": 732,
     "status": "ok",
     "timestamp": 1657992845730,
     "user": {
      "displayName": "hager saleh",
      "userId": "04961961339784377923"
     },
     "user_tz": -120
    },
    "id": "-OtL6c07X69j",
    "outputId": "14d63f19-19e4-4ace-c924-9669f85972a4"
   },
   "outputs": [
    {
     "name": "stdout",
     "output_type": "stream",
     "text": [
      "WARNING:tensorflow:Detecting that an object or model or tf.train.Checkpoint is being deleted with unrestored values. See the following logs for the specific values in question. To silence these warnings, use `status.expect_partial()`. See https://www.tensorflow.org/api_docs/python/tf/train/Checkpoint#restorefor details about the status object returned by the restore function.\n",
      "WARNING:tensorflow:Value in checkpoint could not be found in the restored object: (root).optimizer.iter\n",
      "WARNING:tensorflow:Value in checkpoint could not be found in the restored object: (root).optimizer.beta_1\n",
      "WARNING:tensorflow:Value in checkpoint could not be found in the restored object: (root).optimizer.beta_2\n",
      "WARNING:tensorflow:Value in checkpoint could not be found in the restored object: (root).optimizer.decay\n",
      "WARNING:tensorflow:Value in checkpoint could not be found in the restored object: (root).optimizer.learning_rate\n"
     ]
    }
   ],
   "source": [
    "best_cnn = tuner.get_best_models(num_models=1)[0]"
   ]
  },
  {
   "cell_type": "code",
   "execution_count": 96,
   "metadata": {
    "colab": {
     "base_uri": "https://localhost:8080/"
    },
    "executionInfo": {
     "elapsed": 12,
     "status": "ok",
     "timestamp": 1657992845730,
     "user": {
      "displayName": "hager saleh",
      "userId": "04961961339784377923"
     },
     "user_tz": -120
    },
    "id": "inY9YIHCCVGN",
    "outputId": "e583f804-5084-4c8e-9f95-17cd052bc9c2"
   },
   "outputs": [
    {
     "data": {
      "text/plain": [
       "{'Pool_Size1': 2,\n",
       " 'kernel_size1': 3,\n",
       " 'learning_rate': 0.009398395408163318,\n",
       " 'num_filters1': 80,\n",
       " 'unit1': 250}"
      ]
     },
     "execution_count": 96,
     "metadata": {},
     "output_type": "execute_result"
    }
   ],
   "source": [
    "tuner.get_best_hyperparameters()[0].values"
   ]
  },
  {
   "cell_type": "code",
   "execution_count": 97,
   "metadata": {
    "executionInfo": {
     "elapsed": 1128,
     "status": "ok",
     "timestamp": 1657992846854,
     "user": {
      "displayName": "hager saleh",
      "userId": "04961961339784377923"
     },
     "user_tz": -120
    },
    "id": "gNoRHMSN49VK"
   },
   "outputs": [],
   "source": [
    "best_cnn.save(\"/content/drive/MyDrive/Student/project1/model/DeepCNN.h5\")"
   ]
  },
  {
   "cell_type": "code",
   "execution_count": 98,
   "metadata": {
    "colab": {
     "base_uri": "https://localhost:8080/"
    },
    "executionInfo": {
     "elapsed": 79220,
     "status": "ok",
     "timestamp": 1657992926069,
     "user": {
      "displayName": "hager saleh",
      "userId": "04961961339784377923"
     },
     "user_tz": -120
    },
    "id": "yeiRJlBkE7zO",
    "outputId": "67a2b11e-07ac-4525-9255-8f42bd303edd"
   },
   "outputs": [
    {
     "name": "stdout",
     "output_type": "stream",
     "text": [
      "Epoch 1/20\n",
      "20/20 [==============================] - 5s 221ms/step - loss: 0.7972 - acc: 0.6607 - val_loss: 0.9231 - val_acc: 0.6528\n",
      "Epoch 2/20\n",
      "20/20 [==============================] - 4s 205ms/step - loss: 0.8225 - acc: 0.6183 - val_loss: 1.0194 - val_acc: 0.5972\n",
      "Epoch 3/20\n",
      "20/20 [==============================] - 4s 212ms/step - loss: 0.8530 - acc: 0.6166 - val_loss: 0.9531 - val_acc: 0.6111\n",
      "Epoch 4/20\n",
      "20/20 [==============================] - 4s 191ms/step - loss: 0.8339 - acc: 0.6297 - val_loss: 0.9300 - val_acc: 0.6389\n",
      "Epoch 5/20\n",
      "20/20 [==============================] - 4s 194ms/step - loss: 0.8214 - acc: 0.6248 - val_loss: 0.8891 - val_acc: 0.6528\n",
      "Epoch 6/20\n",
      "20/20 [==============================] - 4s 192ms/step - loss: 0.8035 - acc: 0.6476 - val_loss: 1.0698 - val_acc: 0.5972\n",
      "Epoch 7/20\n",
      "20/20 [==============================] - 4s 192ms/step - loss: 0.8240 - acc: 0.6281 - val_loss: 0.9386 - val_acc: 0.5972\n",
      "Epoch 8/20\n",
      "20/20 [==============================] - 4s 193ms/step - loss: 0.8671 - acc: 0.5905 - val_loss: 1.3116 - val_acc: 0.5417\n",
      "Epoch 9/20\n",
      "20/20 [==============================] - 4s 192ms/step - loss: 0.8902 - acc: 0.5889 - val_loss: 0.8807 - val_acc: 0.6250\n",
      "Epoch 10/20\n",
      "20/20 [==============================] - 4s 192ms/step - loss: 0.8286 - acc: 0.6460 - val_loss: 0.9190 - val_acc: 0.6528\n",
      "Epoch 11/20\n",
      "20/20 [==============================] - 4s 193ms/step - loss: 0.8312 - acc: 0.6264 - val_loss: 1.1837 - val_acc: 0.4444\n",
      "Epoch 12/20\n",
      "20/20 [==============================] - 4s 192ms/step - loss: 0.8824 - acc: 0.6117 - val_loss: 1.1600 - val_acc: 0.4722\n",
      "Epoch 13/20\n",
      "20/20 [==============================] - 4s 191ms/step - loss: 0.8015 - acc: 0.6378 - val_loss: 0.9890 - val_acc: 0.6250\n",
      "Epoch 14/20\n",
      "20/20 [==============================] - 4s 194ms/step - loss: 0.7582 - acc: 0.6770 - val_loss: 1.1027 - val_acc: 0.5833\n",
      "Epoch 15/20\n",
      "20/20 [==============================] - 4s 191ms/step - loss: 0.7657 - acc: 0.6378 - val_loss: 1.1284 - val_acc: 0.5694\n",
      "Epoch 16/20\n",
      "20/20 [==============================] - 4s 192ms/step - loss: 0.7579 - acc: 0.6705 - val_loss: 1.0626 - val_acc: 0.5694\n",
      "Epoch 17/20\n",
      "20/20 [==============================] - 4s 194ms/step - loss: 0.7789 - acc: 0.6623 - val_loss: 1.0523 - val_acc: 0.5972\n",
      "Epoch 18/20\n",
      "20/20 [==============================] - 4s 191ms/step - loss: 0.7966 - acc: 0.6330 - val_loss: 1.0550 - val_acc: 0.5694\n",
      "Epoch 19/20\n",
      "20/20 [==============================] - 4s 201ms/step - loss: 0.8571 - acc: 0.6509 - val_loss: 1.2619 - val_acc: 0.4583\n",
      "Epoch 20/20\n",
      "20/20 [==============================] - 4s 193ms/step - loss: 0.8145 - acc: 0.6607 - val_loss: 1.1213 - val_acc: 0.5694\n"
     ]
    }
   ],
   "source": [
    "cnn=best_cnn.fit(train_data,\n",
    "               \n",
    "                  batch_size=BATCH_SIZE,\n",
    "                  epochs=epoch, validation_data=(val_data))\n"
   ]
  },
  {
   "cell_type": "code",
   "execution_count": 99,
   "metadata": {
    "colab": {
     "base_uri": "https://localhost:8080/",
     "height": 0
    },
    "execution": {
     "iopub.execute_input": "2022-01-13T12:58:36.293403Z",
     "iopub.status.busy": "2022-01-13T12:58:36.292603Z",
     "iopub.status.idle": "2022-01-13T12:58:36.800657Z",
     "shell.execute_reply": "2022-01-13T12:58:36.799919Z",
     "shell.execute_reply.started": "2022-01-13T12:58:36.293340Z"
    },
    "executionInfo": {
     "elapsed": 711,
     "status": "ok",
     "timestamp": 1657992926759,
     "user": {
      "displayName": "hager saleh",
      "userId": "04961961339784377923"
     },
     "user_tz": -120
    },
    "id": "6qtPEwPyX69k",
    "outputId": "b07a6da3-7312-4b51-f1de-caa73a028868"
   },
   "outputs": [
    {
     "data": {
      "image/png": "[encoded data removed]",
      "text/plain": [
       "<Figure size 1080x360 with 2 Axes>"
      ]
     },
     "metadata": {
      "needs_background": "light"
     },
     "output_type": "display_data"
    }
   ],
   "source": [
    "# Plot model performance\n",
    "acc = cnn.history['acc']\n",
    "val_acc = cnn.history['val_acc']\n",
    "loss = cnn.history['loss']\n",
    "val_loss = cnn.history['val_loss']\n",
    "epochs_range = range(1, len(cnn.epoch) + 1)\n",
    "\n",
    "plt.figure(figsize=(15,5))\n",
    "\n",
    "plt.subplot(1, 2, 1)\n",
    "plt.plot(epochs_range, acc, label='Train Set')\n",
    "plt.plot(epochs_range, val_acc, label='Val Set')\n",
    "plt.legend(loc=\"best\")\n",
    "plt.xlabel('Epochs')\n",
    "plt.ylabel('Accuracy')\n",
    "plt.title('Model Accuracy')\n",
    "\n",
    "plt.subplot(1, 2, 2)\n",
    "plt.plot(epochs_range, loss, label='Train Set')\n",
    "plt.plot(epochs_range, val_loss, label='Val Set')\n",
    "plt.legend(loc=\"best\")\n",
    "plt.xlabel('Epochs')\n",
    "plt.ylabel('Loss')\n",
    "plt.title('Model Loss')\n",
    "\n",
    "plt.tight_layout()\n",
    "plt.show()"
   ]
  },
  {
   "cell_type": "code",
   "execution_count": 100,
   "metadata": {
    "colab": {
     "base_uri": "https://localhost:8080/"
    },
    "execution": {
     "iopub.execute_input": "2022-01-13T12:58:25.099770Z",
     "iopub.status.busy": "2022-01-13T12:58:25.099293Z",
     "iopub.status.idle": "2022-01-13T12:58:29.445208Z",
     "shell.execute_reply": "2022-01-13T12:58:29.444462Z",
     "shell.execute_reply.started": "2022-01-13T12:58:25.099735Z"
    },
    "executionInfo": {
     "elapsed": 418,
     "status": "ok",
     "timestamp": 1657992927172,
     "user": {
      "displayName": "hager saleh",
      "userId": "04961961339784377923"
     },
     "user_tz": -120
    },
    "id": "D03OMFohX69k",
    "outputId": "0fafdc0f-bfea-4cc8-9f27-f0649769f9b2"
   },
   "outputs": [
    {
     "name": "stdout",
     "output_type": "stream",
     "text": [
      "5/5 [==============================] - 1s 132ms/step - loss: 1.0486 - acc: 0.4604\n",
      "The accuracy of the model is = 104.85730171203613 %\n"
     ]
    }
   ],
   "source": [
    "# Checking the Accuracy of the Model \n",
    "secore = best_cnn.evaluate(test_data)\n",
    "print(f\"The accuracy of the model is = {secore[0]*100} %\")\n"
   ]
  },
  {
   "cell_type": "markdown",
   "metadata": {
    "id": "fulzsZe5X69k"
   },
   "source": [
    "## VGG16 Model"
   ]
  },
  {
   "cell_type": "code",
   "execution_count": 101,
   "metadata": {
    "execution": {
     "iopub.execute_input": "2022-01-13T12:58:42.773492Z",
     "iopub.status.busy": "2022-01-13T12:58:42.772772Z",
     "iopub.status.idle": "2022-01-13T12:58:43.452602Z",
     "shell.execute_reply": "2022-01-13T12:58:43.451757Z",
     "shell.execute_reply.started": "2022-01-13T12:58:42.773450Z"
    },
    "executionInfo": {
     "elapsed": 324,
     "status": "ok",
     "timestamp": 1657992927493,
     "user": {
      "displayName": "hager saleh",
      "userId": "04961961339784377923"
     },
     "user_tz": -120
    },
    "id": "6NDP7nOSX69k"
   },
   "outputs": [],
   "source": [
    "base_model = VGG16(\n",
    "    weights='imagenet',\n",
    "    include_top=False, \n",
    "    input_shape=(64,64,3)\n",
    ")"
   ]
  },
  {
   "cell_type": "code",
   "execution_count": 102,
   "metadata": {
    "colab": {
     "base_uri": "https://localhost:8080/"
    },
    "execution": {
     "iopub.execute_input": "2022-01-13T12:58:48.844902Z",
     "iopub.status.busy": "2022-01-13T12:58:48.844198Z",
     "iopub.status.idle": "2022-01-13T12:58:48.920324Z",
     "shell.execute_reply": "2022-01-13T12:58:48.919633Z",
     "shell.execute_reply.started": "2022-01-13T12:58:48.844864Z"
    },
    "executionInfo": {
     "elapsed": 15,
     "status": "ok",
     "timestamp": 1657992927493,
     "user": {
      "displayName": "hager saleh",
      "userId": "04961961339784377923"
     },
     "user_tz": -120
    },
    "id": "hkv7IWohX69l",
    "outputId": "d9bbefea-af32-499b-b5f7-75c2b0068dba"
   },
   "outputs": [
    {
     "name": "stdout",
     "output_type": "stream",
     "text": [
      "Model: \"sequential_1\"\n",
      "_________________________________________________________________\n",
      " Layer (type)                Output Shape              Param #   \n",
      "=================================================================\n",
      " vgg16 (Functional)          (None, 2, 2, 512)         14714688  \n",
      "                                                                 \n",
      " flatten_1 (Flatten)         (None, 2048)              0         \n",
      "                                                                 \n",
      " dropout (Dropout)           (None, 2048)              0         \n",
      "                                                                 \n",
      " dense_2 (Dense)             (None, 4)                 8196      \n",
      "                                                                 \n",
      "=================================================================\n",
      "Total params: 14,722,884\n",
      "Trainable params: 8,196\n",
      "Non-trainable params: 14,714,688\n",
      "_________________________________________________________________\n"
     ]
    }
   ],
   "source": [
    "vgg_model = Sequential()\n",
    "vgg_model.add(base_model)\n",
    "vgg_model.add(layers.Flatten())\n",
    "vgg_model.add(layers.Dropout(0.25))\n",
    "vgg_model.add(layers.Dense(NUM_CLASSES, activation='softmax'))\n",
    "\n",
    "vgg_model.layers[0].trainable = False\n",
    "\n",
    "vgg_model.compile(\n",
    "    loss='categorical_crossentropy',\n",
    "    optimizer='adam',\n",
    "    metrics= ['acc'] \n",
    ")\n",
    "\n",
    "vgg_model.summary()"
   ]
  },
  {
   "cell_type": "code",
   "execution_count": 103,
   "metadata": {
    "colab": {
     "base_uri": "https://localhost:8080/"
    },
    "execution": {
     "iopub.execute_input": "2022-01-13T12:58:55.693470Z",
     "iopub.status.busy": "2022-01-13T12:58:55.692895Z",
     "iopub.status.idle": "2022-01-13T13:09:44.971887Z",
     "shell.execute_reply": "2022-01-13T13:09:44.971190Z",
     "shell.execute_reply.started": "2022-01-13T12:58:55.693431Z"
    },
    "executionInfo": {
     "elapsed": 79890,
     "status": "ok",
     "timestamp": 1657993007381,
     "user": {
      "displayName": "hager saleh",
      "userId": "04961961339784377923"
     },
     "user_tz": -120
    },
    "id": "JJp_eqloX69l",
    "outputId": "ba0b5d50-c007-4b26-ca96-9da351710267"
   },
   "outputs": [
    {
     "name": "stdout",
     "output_type": "stream",
     "text": [
      "Epoch 1/20\n",
      "20/20 [==============================] - 5s 213ms/step - loss: 1.3605 - acc: 0.3589 - val_loss: 1.3431 - val_acc: 0.3194\n",
      "Epoch 2/20\n",
      "20/20 [==============================] - 4s 192ms/step - loss: 1.1901 - acc: 0.4731 - val_loss: 1.2504 - val_acc: 0.3472\n",
      "Epoch 3/20\n",
      "20/20 [==============================] - 4s 194ms/step - loss: 1.1513 - acc: 0.4992 - val_loss: 1.2116 - val_acc: 0.4306\n",
      "Epoch 4/20\n",
      "20/20 [==============================] - 4s 193ms/step - loss: 1.0840 - acc: 0.5188 - val_loss: 1.2459 - val_acc: 0.4167\n",
      "Epoch 5/20\n",
      "20/20 [==============================] - 4s 198ms/step - loss: 1.0537 - acc: 0.5416 - val_loss: 1.2457 - val_acc: 0.4583\n",
      "Epoch 6/20\n",
      "20/20 [==============================] - 4s 206ms/step - loss: 1.0288 - acc: 0.5351 - val_loss: 1.1393 - val_acc: 0.4306\n",
      "Epoch 7/20\n",
      "20/20 [==============================] - 4s 195ms/step - loss: 0.9984 - acc: 0.5514 - val_loss: 1.1784 - val_acc: 0.4306\n",
      "Epoch 8/20\n",
      "20/20 [==============================] - 4s 195ms/step - loss: 0.9907 - acc: 0.5432 - val_loss: 1.0935 - val_acc: 0.4722\n",
      "Epoch 9/20\n",
      "20/20 [==============================] - 4s 196ms/step - loss: 0.9864 - acc: 0.5628 - val_loss: 1.1236 - val_acc: 0.4722\n",
      "Epoch 10/20\n",
      "20/20 [==============================] - 4s 196ms/step - loss: 0.9686 - acc: 0.5644 - val_loss: 1.1399 - val_acc: 0.4861\n",
      "Epoch 11/20\n",
      "20/20 [==============================] - 4s 194ms/step - loss: 0.9310 - acc: 0.5840 - val_loss: 1.1073 - val_acc: 0.4722\n",
      "Epoch 12/20\n",
      "20/20 [==============================] - 4s 194ms/step - loss: 0.9400 - acc: 0.5922 - val_loss: 1.1442 - val_acc: 0.5139\n",
      "Epoch 13/20\n",
      "20/20 [==============================] - 4s 194ms/step - loss: 0.9281 - acc: 0.5595 - val_loss: 1.1245 - val_acc: 0.5278\n",
      "Epoch 14/20\n",
      "20/20 [==============================] - 4s 202ms/step - loss: 0.9125 - acc: 0.5759 - val_loss: 1.1410 - val_acc: 0.4861\n",
      "Epoch 15/20\n",
      "20/20 [==============================] - 4s 196ms/step - loss: 0.9471 - acc: 0.5856 - val_loss: 1.3174 - val_acc: 0.4306\n",
      "Epoch 16/20\n",
      "20/20 [==============================] - 4s 198ms/step - loss: 0.9109 - acc: 0.5742 - val_loss: 1.1945 - val_acc: 0.4722\n",
      "Epoch 17/20\n",
      "20/20 [==============================] - 4s 199ms/step - loss: 0.8976 - acc: 0.5889 - val_loss: 1.1243 - val_acc: 0.4306\n",
      "Epoch 18/20\n",
      "20/20 [==============================] - 4s 196ms/step - loss: 0.8908 - acc: 0.6199 - val_loss: 1.0711 - val_acc: 0.5139\n",
      "Epoch 19/20\n",
      "20/20 [==============================] - 4s 196ms/step - loss: 0.8848 - acc: 0.6069 - val_loss: 1.1290 - val_acc: 0.5000\n",
      "Epoch 20/20\n",
      "20/20 [==============================] - 4s 193ms/step - loss: 0.8484 - acc: 0.6395 - val_loss: 1.1111 - val_acc: 0.5000\n"
     ]
    }
   ],
   "source": [
    "# Fitting the Model\n",
    "vgg = vgg_model.fit(\n",
    "    train_data,  epochs = 20, \n",
    "    validation_data = val_data, batch_size=32)"
   ]
  },
  {
   "cell_type": "code",
   "execution_count": 104,
   "metadata": {
    "executionInfo": {
     "elapsed": 722,
     "status": "ok",
     "timestamp": 1657993008082,
     "user": {
      "displayName": "hager saleh",
      "userId": "04961961339784377923"
     },
     "user_tz": -120
    },
    "id": "0FX8bv7EXpRB"
   },
   "outputs": [],
   "source": [
    "vgg_model.save(\"/content/drive/MyDrive/Student/project1/model/vgg_model.h5\")"
   ]
  },
  {
   "cell_type": "code",
   "execution_count": 105,
   "metadata": {
    "colab": {
     "base_uri": "https://localhost:8080/"
    },
    "execution": {
     "iopub.execute_input": "2022-01-13T13:09:51.653498Z",
     "iopub.status.busy": "2022-01-13T13:09:51.653227Z",
     "iopub.status.idle": "2022-01-13T13:09:54.408967Z",
     "shell.execute_reply": "2022-01-13T13:09:54.408200Z",
     "shell.execute_reply.started": "2022-01-13T13:09:51.653468Z"
    },
    "executionInfo": {
     "elapsed": 1036,
     "status": "ok",
     "timestamp": 1657993009114,
     "user": {
      "displayName": "hager saleh",
      "userId": "04961961339784377923"
     },
     "user_tz": -120
    },
    "id": "2KvobdZAX69l",
    "outputId": "7ec6ed6c-58b6-4102-9b43-30ab071367ee"
   },
   "outputs": [
    {
     "name": "stdout",
     "output_type": "stream",
     "text": [
      "5/5 [==============================] - 1s 160ms/step - loss: 1.1875 - acc: 0.5036\n",
      "The accuracy of the model is = 118.74923706054688 %\n"
     ]
    }
   ],
   "source": [
    "# Checking the Accuracy of the Model \n",
    "secore_vgg = vgg_model.evaluate(test_data)\n",
    "\n",
    "print(f\"The accuracy of the model is = {secore_vgg [0]*100} %\")\n"
   ]
  },
  {
   "cell_type": "code",
   "execution_count": 106,
   "metadata": {
    "colab": {
     "base_uri": "https://localhost:8080/"
    },
    "execution": {
     "iopub.execute_input": "2022-01-13T13:09:58.530792Z",
     "iopub.status.busy": "2022-01-13T13:09:58.529899Z",
     "iopub.status.idle": "2022-01-13T13:09:58.535965Z",
     "shell.execute_reply": "2022-01-13T13:09:58.535148Z",
     "shell.execute_reply.started": "2022-01-13T13:09:58.530754Z"
    },
    "executionInfo": {
     "elapsed": 12,
     "status": "ok",
     "timestamp": 1657993009115,
     "user": {
      "displayName": "hager saleh",
      "userId": "04961961339784377923"
     },
     "user_tz": -120
    },
    "id": "D2KZJ5FGX69l",
    "outputId": "1fb3b47c-f5e3-46ac-c618-afe4701a4a2f"
   },
   "outputs": [
    {
     "data": {
      "text/plain": [
       "dict_keys(['loss', 'acc', 'val_loss', 'val_acc'])"
      ]
     },
     "execution_count": 106,
     "metadata": {},
     "output_type": "execute_result"
    }
   ],
   "source": [
    "vgg.history.keys()"
   ]
  },
  {
   "cell_type": "code",
   "execution_count": 107,
   "metadata": {
    "colab": {
     "base_uri": "https://localhost:8080/",
     "height": 0
    },
    "execution": {
     "iopub.execute_input": "2022-01-13T13:10:02.017030Z",
     "iopub.status.busy": "2022-01-13T13:10:02.016339Z",
     "iopub.status.idle": "2022-01-13T13:10:02.422856Z",
     "shell.execute_reply": "2022-01-13T13:10:02.422180Z",
     "shell.execute_reply.started": "2022-01-13T13:10:02.016995Z"
    },
    "executionInfo": {
     "elapsed": 496,
     "status": "ok",
     "timestamp": 1657993009607,
     "user": {
      "displayName": "hager saleh",
      "userId": "04961961339784377923"
     },
     "user_tz": -120
    },
    "id": "ZU5BAYixX69l",
    "outputId": "905272e2-e086-4518-8242-ee9e614e89bc"
   },
   "outputs": [
    {
     "data": {
      "image/png": "[encoded data removed]",
      "text/plain": [
       "<Figure size 1080x360 with 2 Axes>"
      ]
     },
     "metadata": {
      "needs_background": "light"
     },
     "output_type": "display_data"
    }
   ],
   "source": [
    "# Plot model performance\n",
    "acc = vgg.history['acc']\n",
    "val_acc = vgg.history['val_acc']\n",
    "loss = vgg.history['loss']\n",
    "val_loss = vgg.history['val_loss']\n",
    "epochs_range = range(1, len(vgg.epoch) + 1)\n",
    "\n",
    "plt.figure(figsize=(15,5))\n",
    "\n",
    "plt.subplot(1, 2, 1)\n",
    "plt.plot(epochs_range, acc, label='Train Set')\n",
    "plt.plot(epochs_range, val_acc, label='Val Set')\n",
    "plt.legend(loc=\"best\")\n",
    "plt.xlabel('Epochs')\n",
    "plt.ylabel('Accuracy')\n",
    "plt.title('Model Accuracy')\n",
    "\n",
    "plt.subplot(1, 2, 2)\n",
    "plt.plot(epochs_range, loss, label='Train Set')\n",
    "plt.plot(epochs_range, val_loss, label='Val Set')\n",
    "plt.legend(loc=\"best\")\n",
    "plt.xlabel('Epochs')\n",
    "plt.ylabel('Loss')\n",
    "plt.title('Model Loss')\n",
    "\n",
    "plt.tight_layout()\n",
    "plt.show()"
   ]
  },
  {
   "cell_type": "markdown",
   "metadata": {
    "id": "JDD7UX0rX69n"
   },
   "source": [
    "## RestNet50 Model"
   ]
  },
  {
   "cell_type": "code",
   "execution_count": 108,
   "metadata": {
    "execution": {
     "iopub.execute_input": "2022-01-13T13:24:40.178107Z",
     "iopub.status.busy": "2022-01-13T13:24:40.177850Z",
     "iopub.status.idle": "2022-01-13T13:24:42.249957Z",
     "shell.execute_reply": "2022-01-13T13:24:42.249082Z",
     "shell.execute_reply.started": "2022-01-13T13:24:40.178079Z"
    },
    "executionInfo": {
     "elapsed": 1250,
     "status": "ok",
     "timestamp": 1657993010849,
     "user": {
      "displayName": "hager saleh",
      "userId": "04961961339784377923"
     },
     "user_tz": -120
    },
    "id": "qvBLfhZaX69n"
   },
   "outputs": [],
   "source": [
    "base_model = ResNet50(input_shape=(64,64,3),\n",
    "                      include_top=False, weights=\"imagenet\", \n",
    "                      pooling='max')"
   ]
  },
  {
   "cell_type": "code",
   "execution_count": 109,
   "metadata": {
    "execution": {
     "iopub.execute_input": "2022-01-13T13:24:45.442754Z",
     "iopub.status.busy": "2022-01-13T13:24:45.442151Z",
     "iopub.status.idle": "2022-01-13T13:24:45.451664Z",
     "shell.execute_reply": "2022-01-13T13:24:45.451031Z",
     "shell.execute_reply.started": "2022-01-13T13:24:45.442713Z"
    },
    "executionInfo": {
     "elapsed": 5,
     "status": "ok",
     "timestamp": 1657993010850,
     "user": {
      "displayName": "hager saleh",
      "userId": "04961961339784377923"
     },
     "user_tz": -120
    },
    "id": "xTslET8TX69n"
   },
   "outputs": [],
   "source": [
    "for layer in base_model.layers:\n",
    "    layer.trainable = False"
   ]
  },
  {
   "cell_type": "code",
   "execution_count": 110,
   "metadata": {
    "execution": {
     "iopub.execute_input": "2022-01-13T13:24:48.648073Z",
     "iopub.status.busy": "2022-01-13T13:24:48.647526Z",
     "iopub.status.idle": "2022-01-13T13:24:49.019488Z",
     "shell.execute_reply": "2022-01-13T13:24:49.018787Z",
     "shell.execute_reply.started": "2022-01-13T13:24:48.648034Z"
    },
    "executionInfo": {
     "elapsed": 412,
     "status": "ok",
     "timestamp": 1657993011257,
     "user": {
      "displayName": "hager saleh",
      "userId": "04961961339784377923"
     },
     "user_tz": -120
    },
    "id": "6LCHIULnX69n"
   },
   "outputs": [],
   "source": [
    "model_resnet = Sequential()\n",
    "model_resnet.add(base_model)\n",
    "model_resnet.add(Dense(NUM_CLASSES, activation='softmax'))"
   ]
  },
  {
   "cell_type": "code",
   "execution_count": 111,
   "metadata": {
    "execution": {
     "iopub.execute_input": "2022-01-13T13:24:51.806970Z",
     "iopub.status.busy": "2022-01-13T13:24:51.806697Z",
     "iopub.status.idle": "2022-01-13T13:24:51.822331Z",
     "shell.execute_reply": "2022-01-13T13:24:51.821690Z",
     "shell.execute_reply.started": "2022-01-13T13:24:51.806940Z"
    },
    "executionInfo": {
     "elapsed": 4,
     "status": "ok",
     "timestamp": 1657993011258,
     "user": {
      "displayName": "hager saleh",
      "userId": "04961961339784377923"
     },
     "user_tz": -120
    },
    "id": "_gMuOCuqX69n"
   },
   "outputs": [],
   "source": [
    "model_resnet.compile(optimizer = tf.keras.optimizers.SGD(learning_rate=0.0001), \n",
    "                     loss = 'categorical_crossentropy', \n",
    "                     metrics = ['acc'] )"
   ]
  },
  {
   "cell_type": "code",
   "execution_count": 112,
   "metadata": {
    "colab": {
     "base_uri": "https://localhost:8080/"
    },
    "execution": {
     "iopub.execute_input": "2022-01-13T13:24:56.782727Z",
     "iopub.status.busy": "2022-01-13T13:24:56.782137Z",
     "iopub.status.idle": "2022-01-13T13:36:22.910993Z",
     "shell.execute_reply": "2022-01-13T13:36:22.909445Z",
     "shell.execute_reply.started": "2022-01-13T13:24:56.782687Z"
    },
    "executionInfo": {
     "elapsed": 62464,
     "status": "ok",
     "timestamp": 1657993073719,
     "user": {
      "displayName": "hager saleh",
      "userId": "04961961339784377923"
     },
     "user_tz": -120
    },
    "id": "RJz6xcaVX69n",
    "outputId": "ae7c77ff-18e8-43dd-f8d3-2581d9a8e783"
   },
   "outputs": [
    {
     "name": "stdout",
     "output_type": "stream",
     "text": [
      "Epoch 1/15\n",
      "19/19 [==============================] - 8s 280ms/step - loss: 1.6903 - acc: 0.2702 - val_loss: 1.6146 - val_acc: 0.1719\n",
      "Epoch 2/15\n",
      "19/19 [==============================] - 4s 200ms/step - loss: 1.5886 - acc: 0.2806 - val_loss: 1.5331 - val_acc: 0.2656\n",
      "Epoch 3/15\n",
      "19/19 [==============================] - 4s 200ms/step - loss: 1.5030 - acc: 0.3115 - val_loss: 1.4186 - val_acc: 0.3438\n",
      "Epoch 4/15\n",
      "19/19 [==============================] - 4s 203ms/step - loss: 1.4504 - acc: 0.3614 - val_loss: 1.4241 - val_acc: 0.2969\n",
      "Epoch 5/15\n",
      "19/19 [==============================] - 4s 200ms/step - loss: 1.4061 - acc: 0.3683 - val_loss: 1.4231 - val_acc: 0.2969\n",
      "Epoch 6/15\n",
      "19/19 [==============================] - 4s 202ms/step - loss: 1.3879 - acc: 0.3546 - val_loss: 1.4049 - val_acc: 0.3125\n",
      "Epoch 7/15\n",
      "19/19 [==============================] - 4s 200ms/step - loss: 1.3708 - acc: 0.3683 - val_loss: 1.4077 - val_acc: 0.3125\n",
      "Epoch 8/15\n",
      "19/19 [==============================] - 4s 222ms/step - loss: 1.3659 - acc: 0.3666 - val_loss: 1.4102 - val_acc: 0.2656\n",
      "Epoch 9/15\n",
      "19/19 [==============================] - 4s 204ms/step - loss: 1.3630 - acc: 0.3425 - val_loss: 1.3854 - val_acc: 0.3125\n",
      "Epoch 10/15\n",
      "19/19 [==============================] - 4s 214ms/step - loss: 1.3526 - acc: 0.3546 - val_loss: 1.3846 - val_acc: 0.3281\n",
      "Epoch 11/15\n",
      "19/19 [==============================] - 4s 206ms/step - loss: 1.3551 - acc: 0.3735 - val_loss: 1.4134 - val_acc: 0.2969\n",
      "Epoch 12/15\n",
      "19/19 [==============================] - 4s 206ms/step - loss: 1.3507 - acc: 0.3614 - val_loss: 1.3977 - val_acc: 0.3438\n",
      "Epoch 13/15\n",
      "19/19 [==============================] - 4s 202ms/step - loss: 1.3514 - acc: 0.3632 - val_loss: 1.4090 - val_acc: 0.2500\n",
      "Epoch 14/15\n",
      "19/19 [==============================] - 4s 202ms/step - loss: 1.3534 - acc: 0.3718 - val_loss: 1.4095 - val_acc: 0.2969\n",
      "Epoch 15/15\n",
      "19/19 [==============================] - 4s 206ms/step - loss: 1.3438 - acc: 0.3924 - val_loss: 1.4088 - val_acc: 0.3125\n"
     ]
    }
   ],
   "source": [
    "# Fitting the Model\n",
    "resnet = model_resnet.fit(\n",
    "    train_data, \n",
    "    steps_per_epoch = train_data.samples//train_data.batch_size, \n",
    "    epochs = 15, \n",
    "    validation_data = val_data, \n",
    "    validation_steps = val_data.samples//val_data.batch_size)"
   ]
  },
  {
   "cell_type": "code",
   "execution_count": 113,
   "metadata": {
    "colab": {
     "base_uri": "https://localhost:8080/",
     "height": 0
    },
    "execution": {
     "iopub.execute_input": "2022-01-13T13:37:49.944556Z",
     "iopub.status.busy": "2022-01-13T13:37:49.943920Z",
     "iopub.status.idle": "2022-01-13T13:37:50.356600Z",
     "shell.execute_reply": "2022-01-13T13:37:50.355903Z",
     "shell.execute_reply.started": "2022-01-13T13:37:49.944508Z"
    },
    "executionInfo": {
     "elapsed": 698,
     "status": "ok",
     "timestamp": 1657993074393,
     "user": {
      "displayName": "hager saleh",
      "userId": "04961961339784377923"
     },
     "user_tz": -120
    },
    "id": "jvZnbG3BX69o",
    "outputId": "134e34af-e1ec-4f84-8e20-066eaa494eeb"
   },
   "outputs": [
    {
     "data": {
      "image/png": "[encoded data removed]",
      "text/plain": [
       "<Figure size 1080x360 with 2 Axes>"
      ]
     },
     "metadata": {
      "needs_background": "light"
     },
     "output_type": "display_data"
    }
   ],
   "source": [
    "# Plot model performance\n",
    "acc = resnet.history['acc']\n",
    "val_acc = resnet.history['val_acc']\n",
    "loss = resnet.history['loss']\n",
    "val_loss = resnet.history['val_loss']\n",
    "epochs_range = range(1, len(resnet.epoch) + 1)\n",
    "\n",
    "plt.figure(figsize=(15,5))\n",
    "\n",
    "plt.subplot(1, 2, 1)\n",
    "plt.plot(epochs_range, acc, label='Train Set')\n",
    "plt.plot(epochs_range, val_acc, label='Val Set')\n",
    "plt.legend(loc=\"best\")\n",
    "plt.xlabel('Epochs')\n",
    "plt.ylabel('Accuracy')\n",
    "plt.title('Model Accuracy')\n",
    "\n",
    "plt.subplot(1, 2, 2)\n",
    "plt.plot(epochs_range, loss, label='Train Set')\n",
    "plt.plot(epochs_range, val_loss, label='Val Set')\n",
    "plt.legend(loc=\"best\")\n",
    "plt.xlabel('Epochs')\n",
    "plt.ylabel('Loss')\n",
    "plt.title('Model Loss')\n",
    "plt.tight_layout()\n",
    "plt.show()"
   ]
  },
  {
   "cell_type": "code",
   "execution_count": 114,
   "metadata": {
    "colab": {
     "base_uri": "https://localhost:8080/"
    },
    "executionInfo": {
     "elapsed": 1457,
     "status": "ok",
     "timestamp": 1657993075843,
     "user": {
      "displayName": "hager saleh",
      "userId": "04961961339784377923"
     },
     "user_tz": -120
    },
    "id": "fTEd5BsMTwhH",
    "outputId": "69cdbea5-0f21-4cf3-b122-e533b693294a"
   },
   "outputs": [
    {
     "name": "stdout",
     "output_type": "stream",
     "text": [
      "5/5 [==============================] - 1s 161ms/step - loss: 1.3631 - acc: 0.3957\n",
      "The accuracy of the model is = 136.30794286727905 %\n"
     ]
    }
   ],
   "source": [
    "# Checking the Accuracy of the Model \n",
    "secore_resnet = model_resnet.evaluate(test_data)\n",
    "\n",
    "print(f\"The accuracy of the model is = {secore_resnet [0]*100} %\")\n"
   ]
  }
 ],
 "metadata": {
  "accelerator": "GPU",
  "colab": {
   "collapsed_sections": [],
   "machine_shape": "hm",
   "name": "Models.ipynb",
   "provenance": []
  },
  "gpuClass": "standard",
  "kernelspec": {
   "display_name": "Python 3 (ipykernel)",
   "language": "python",
   "name": "python3"
  },
  "language_info": {
   "codemirror_mode": {
    "name": "ipython",
    "version": 3
   },
   "file_extension": ".py",
   "mimetype": "text/x-python",
   "name": "python",
   "nbconvert_exporter": "python",
   "pygments_lexer": "ipython3",
   "version": "3.9.7"
  }
 },
 "nbformat": 4,
 "nbformat_minor": 1
}
